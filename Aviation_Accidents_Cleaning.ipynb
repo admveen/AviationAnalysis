{
 "cells": [
  {
   "cell_type": "markdown",
   "id": "d7485d62",
   "metadata": {},
   "source": [
    "# Aviation Accidents Analysis\n",
    "\n",
    "You are part of a consulting firm that is tasked to do an analysis of commercial and passenger jet airline safety. The client (an airline/airplane insurer) is interested in knowing what types of aircraft (makes/models) exhibit low rates of total destruction and low likelihood of fatal or serious passenger injuries in the event of an accident. They are also interested in any general variables/conditions that might be at play. Your analysis will be based off of aviation accident data accumulated from the years 1948-2023. \n",
    "\n",
    "Our client is only interested in airplane makes/models that are professional builds and could potentially still be active. Assume a max lifetime of 40 years for a make/model retirement and make sure to filter your data accordingly (i.e. from 1983 onwards). They would also like separate recommendations for small aircraft vs. larger passenger models. **In addition, make sure that claims that you make are statistically robust and that you have enough samples when making comparisons between groups.**\n",
    "\n",
    "\n",
    "In this summative assessment you will demonstrate your ability to:\n",
    "- **Use Pandas to load, inspect, and clean the dataset appropriately.**\n",
    "- **Transform relevant columns to create measures that address the problem at hand.**\n",
    "- conduct EDA: visualization and statistical measures to systematically understand the structure of the data\n",
    "- recommend a set of airplanes and makes conforming to the client's request and identify at least *two* factors contributing to airplane safety. You must provide supporting evidence (visuals, summary statistics, tables) for each claim you make."
   ]
  },
  {
   "cell_type": "markdown",
   "id": "73e582c5",
   "metadata": {},
   "source": [
    "### Make relevant library imports"
   ]
  },
  {
   "cell_type": "code",
   "execution_count": 144,
   "id": "a72188a8",
   "metadata": {},
   "outputs": [],
   "source": [
    "import pandas as pd\n",
    "import numpy as np\n",
    "import matplotlib.pyplot as plt\n",
    "import seaborn as sns"
   ]
  },
  {
   "cell_type": "markdown",
   "id": "5b1fc321",
   "metadata": {},
   "source": [
    "## Data Loading and Inspection"
   ]
  },
  {
   "cell_type": "markdown",
   "id": "57becc28",
   "metadata": {},
   "source": [
    "### Load in data from the relevant directory and inspect the dataframe.\n",
    "- inspect NaNs, datatypes, and summary statistics"
   ]
  },
  {
   "cell_type": "code",
   "execution_count": 145,
   "id": "0823b72b",
   "metadata": {},
   "outputs": [],
   "source": [
    "init_aviat_df = pd.read_csv('data/AviationData.csv', encoding = 'latin-1', low_memory = False)"
   ]
  },
  {
   "cell_type": "code",
   "execution_count": 146,
   "id": "775a51f9",
   "metadata": {
    "scrolled": true
   },
   "outputs": [
    {
     "data": {
      "text/html": [
       "<div>\n",
       "<style scoped>\n",
       "    .dataframe tbody tr th:only-of-type {\n",
       "        vertical-align: middle;\n",
       "    }\n",
       "\n",
       "    .dataframe tbody tr th {\n",
       "        vertical-align: top;\n",
       "    }\n",
       "\n",
       "    .dataframe thead th {\n",
       "        text-align: right;\n",
       "    }\n",
       "</style>\n",
       "<table border=\"1\" class=\"dataframe\">\n",
       "  <thead>\n",
       "    <tr style=\"text-align: right;\">\n",
       "      <th></th>\n",
       "      <th>Event.Id</th>\n",
       "      <th>Investigation.Type</th>\n",
       "      <th>Accident.Number</th>\n",
       "      <th>Event.Date</th>\n",
       "      <th>Location</th>\n",
       "      <th>Country</th>\n",
       "      <th>Latitude</th>\n",
       "      <th>Longitude</th>\n",
       "      <th>Airport.Code</th>\n",
       "      <th>Airport.Name</th>\n",
       "      <th>...</th>\n",
       "      <th>Purpose.of.flight</th>\n",
       "      <th>Air.carrier</th>\n",
       "      <th>Total.Fatal.Injuries</th>\n",
       "      <th>Total.Serious.Injuries</th>\n",
       "      <th>Total.Minor.Injuries</th>\n",
       "      <th>Total.Uninjured</th>\n",
       "      <th>Weather.Condition</th>\n",
       "      <th>Broad.phase.of.flight</th>\n",
       "      <th>Report.Status</th>\n",
       "      <th>Publication.Date</th>\n",
       "    </tr>\n",
       "  </thead>\n",
       "  <tbody>\n",
       "    <tr>\n",
       "      <th>0</th>\n",
       "      <td>20001218X45444</td>\n",
       "      <td>Accident</td>\n",
       "      <td>SEA87LA080</td>\n",
       "      <td>1948-10-24</td>\n",
       "      <td>MOOSE CREEK, ID</td>\n",
       "      <td>United States</td>\n",
       "      <td>NaN</td>\n",
       "      <td>NaN</td>\n",
       "      <td>NaN</td>\n",
       "      <td>NaN</td>\n",
       "      <td>...</td>\n",
       "      <td>Personal</td>\n",
       "      <td>NaN</td>\n",
       "      <td>2.0</td>\n",
       "      <td>0.0</td>\n",
       "      <td>0.0</td>\n",
       "      <td>0.0</td>\n",
       "      <td>UNK</td>\n",
       "      <td>Cruise</td>\n",
       "      <td>Probable Cause</td>\n",
       "      <td>NaN</td>\n",
       "    </tr>\n",
       "    <tr>\n",
       "      <th>1</th>\n",
       "      <td>20001218X45447</td>\n",
       "      <td>Accident</td>\n",
       "      <td>LAX94LA336</td>\n",
       "      <td>1962-07-19</td>\n",
       "      <td>BRIDGEPORT, CA</td>\n",
       "      <td>United States</td>\n",
       "      <td>NaN</td>\n",
       "      <td>NaN</td>\n",
       "      <td>NaN</td>\n",
       "      <td>NaN</td>\n",
       "      <td>...</td>\n",
       "      <td>Personal</td>\n",
       "      <td>NaN</td>\n",
       "      <td>4.0</td>\n",
       "      <td>0.0</td>\n",
       "      <td>0.0</td>\n",
       "      <td>0.0</td>\n",
       "      <td>UNK</td>\n",
       "      <td>Unknown</td>\n",
       "      <td>Probable Cause</td>\n",
       "      <td>19-09-1996</td>\n",
       "    </tr>\n",
       "    <tr>\n",
       "      <th>2</th>\n",
       "      <td>20061025X01555</td>\n",
       "      <td>Accident</td>\n",
       "      <td>NYC07LA005</td>\n",
       "      <td>1974-08-30</td>\n",
       "      <td>Saltville, VA</td>\n",
       "      <td>United States</td>\n",
       "      <td>36.922223</td>\n",
       "      <td>-81.878056</td>\n",
       "      <td>NaN</td>\n",
       "      <td>NaN</td>\n",
       "      <td>...</td>\n",
       "      <td>Personal</td>\n",
       "      <td>NaN</td>\n",
       "      <td>3.0</td>\n",
       "      <td>NaN</td>\n",
       "      <td>NaN</td>\n",
       "      <td>NaN</td>\n",
       "      <td>IMC</td>\n",
       "      <td>Cruise</td>\n",
       "      <td>Probable Cause</td>\n",
       "      <td>26-02-2007</td>\n",
       "    </tr>\n",
       "    <tr>\n",
       "      <th>3</th>\n",
       "      <td>20001218X45448</td>\n",
       "      <td>Accident</td>\n",
       "      <td>LAX96LA321</td>\n",
       "      <td>1977-06-19</td>\n",
       "      <td>EUREKA, CA</td>\n",
       "      <td>United States</td>\n",
       "      <td>NaN</td>\n",
       "      <td>NaN</td>\n",
       "      <td>NaN</td>\n",
       "      <td>NaN</td>\n",
       "      <td>...</td>\n",
       "      <td>Personal</td>\n",
       "      <td>NaN</td>\n",
       "      <td>2.0</td>\n",
       "      <td>0.0</td>\n",
       "      <td>0.0</td>\n",
       "      <td>0.0</td>\n",
       "      <td>IMC</td>\n",
       "      <td>Cruise</td>\n",
       "      <td>Probable Cause</td>\n",
       "      <td>12-09-2000</td>\n",
       "    </tr>\n",
       "    <tr>\n",
       "      <th>4</th>\n",
       "      <td>20041105X01764</td>\n",
       "      <td>Accident</td>\n",
       "      <td>CHI79FA064</td>\n",
       "      <td>1979-08-02</td>\n",
       "      <td>Canton, OH</td>\n",
       "      <td>United States</td>\n",
       "      <td>NaN</td>\n",
       "      <td>NaN</td>\n",
       "      <td>NaN</td>\n",
       "      <td>NaN</td>\n",
       "      <td>...</td>\n",
       "      <td>Personal</td>\n",
       "      <td>NaN</td>\n",
       "      <td>1.0</td>\n",
       "      <td>2.0</td>\n",
       "      <td>NaN</td>\n",
       "      <td>0.0</td>\n",
       "      <td>VMC</td>\n",
       "      <td>Approach</td>\n",
       "      <td>Probable Cause</td>\n",
       "      <td>16-04-1980</td>\n",
       "    </tr>\n",
       "  </tbody>\n",
       "</table>\n",
       "<p>5 rows × 31 columns</p>\n",
       "</div>"
      ],
      "text/plain": [
       "         Event.Id Investigation.Type Accident.Number  Event.Date  \\\n",
       "0  20001218X45444           Accident      SEA87LA080  1948-10-24   \n",
       "1  20001218X45447           Accident      LAX94LA336  1962-07-19   \n",
       "2  20061025X01555           Accident      NYC07LA005  1974-08-30   \n",
       "3  20001218X45448           Accident      LAX96LA321  1977-06-19   \n",
       "4  20041105X01764           Accident      CHI79FA064  1979-08-02   \n",
       "\n",
       "          Location        Country   Latitude   Longitude Airport.Code  \\\n",
       "0  MOOSE CREEK, ID  United States        NaN         NaN          NaN   \n",
       "1   BRIDGEPORT, CA  United States        NaN         NaN          NaN   \n",
       "2    Saltville, VA  United States  36.922223  -81.878056          NaN   \n",
       "3       EUREKA, CA  United States        NaN         NaN          NaN   \n",
       "4       Canton, OH  United States        NaN         NaN          NaN   \n",
       "\n",
       "  Airport.Name  ... Purpose.of.flight Air.carrier Total.Fatal.Injuries  \\\n",
       "0          NaN  ...          Personal         NaN                  2.0   \n",
       "1          NaN  ...          Personal         NaN                  4.0   \n",
       "2          NaN  ...          Personal         NaN                  3.0   \n",
       "3          NaN  ...          Personal         NaN                  2.0   \n",
       "4          NaN  ...          Personal         NaN                  1.0   \n",
       "\n",
       "  Total.Serious.Injuries Total.Minor.Injuries Total.Uninjured  \\\n",
       "0                    0.0                  0.0             0.0   \n",
       "1                    0.0                  0.0             0.0   \n",
       "2                    NaN                  NaN             NaN   \n",
       "3                    0.0                  0.0             0.0   \n",
       "4                    2.0                  NaN             0.0   \n",
       "\n",
       "  Weather.Condition  Broad.phase.of.flight   Report.Status Publication.Date  \n",
       "0               UNK                 Cruise  Probable Cause              NaN  \n",
       "1               UNK                Unknown  Probable Cause       19-09-1996  \n",
       "2               IMC                 Cruise  Probable Cause       26-02-2007  \n",
       "3               IMC                 Cruise  Probable Cause       12-09-2000  \n",
       "4               VMC               Approach  Probable Cause       16-04-1980  \n",
       "\n",
       "[5 rows x 31 columns]"
      ]
     },
     "execution_count": 146,
     "metadata": {},
     "output_type": "execute_result"
    }
   ],
   "source": [
    "init_aviat_df.head()"
   ]
  },
  {
   "cell_type": "code",
   "execution_count": 147,
   "id": "99c93b7b",
   "metadata": {},
   "outputs": [
    {
     "name": "stdout",
     "output_type": "stream",
     "text": [
      "<class 'pandas.core.frame.DataFrame'>\n",
      "RangeIndex: 88889 entries, 0 to 88888\n",
      "Data columns (total 31 columns):\n",
      " #   Column                  Non-Null Count  Dtype  \n",
      "---  ------                  --------------  -----  \n",
      " 0   Event.Id                88889 non-null  object \n",
      " 1   Investigation.Type      88889 non-null  object \n",
      " 2   Accident.Number         88889 non-null  object \n",
      " 3   Event.Date              88889 non-null  object \n",
      " 4   Location                88837 non-null  object \n",
      " 5   Country                 88663 non-null  object \n",
      " 6   Latitude                34382 non-null  object \n",
      " 7   Longitude               34373 non-null  object \n",
      " 8   Airport.Code            50132 non-null  object \n",
      " 9   Airport.Name            52704 non-null  object \n",
      " 10  Injury.Severity         87889 non-null  object \n",
      " 11  Aircraft.damage         85695 non-null  object \n",
      " 12  Aircraft.Category       32287 non-null  object \n",
      " 13  Registration.Number     87507 non-null  object \n",
      " 14  Make                    88826 non-null  object \n",
      " 15  Model                   88797 non-null  object \n",
      " 16  Amateur.Built           88787 non-null  object \n",
      " 17  Number.of.Engines       82805 non-null  float64\n",
      " 18  Engine.Type             81793 non-null  object \n",
      " 19  FAR.Description         32023 non-null  object \n",
      " 20  Schedule                12582 non-null  object \n",
      " 21  Purpose.of.flight       82697 non-null  object \n",
      " 22  Air.carrier             16648 non-null  object \n",
      " 23  Total.Fatal.Injuries    77488 non-null  float64\n",
      " 24  Total.Serious.Injuries  76379 non-null  float64\n",
      " 25  Total.Minor.Injuries    76956 non-null  float64\n",
      " 26  Total.Uninjured         82977 non-null  float64\n",
      " 27  Weather.Condition       84397 non-null  object \n",
      " 28  Broad.phase.of.flight   61724 non-null  object \n",
      " 29  Report.Status           82505 non-null  object \n",
      " 30  Publication.Date        75118 non-null  object \n",
      "dtypes: float64(5), object(26)\n",
      "memory usage: 21.0+ MB\n"
     ]
    }
   ],
   "source": [
    "init_aviat_df.info()"
   ]
  },
  {
   "cell_type": "code",
   "execution_count": 148,
   "id": "98a48066",
   "metadata": {
    "scrolled": true
   },
   "outputs": [
    {
     "data": {
      "text/html": [
       "<div>\n",
       "<style scoped>\n",
       "    .dataframe tbody tr th:only-of-type {\n",
       "        vertical-align: middle;\n",
       "    }\n",
       "\n",
       "    .dataframe tbody tr th {\n",
       "        vertical-align: top;\n",
       "    }\n",
       "\n",
       "    .dataframe thead th {\n",
       "        text-align: right;\n",
       "    }\n",
       "</style>\n",
       "<table border=\"1\" class=\"dataframe\">\n",
       "  <thead>\n",
       "    <tr style=\"text-align: right;\">\n",
       "      <th></th>\n",
       "      <th>Number.of.Engines</th>\n",
       "      <th>Total.Fatal.Injuries</th>\n",
       "      <th>Total.Serious.Injuries</th>\n",
       "      <th>Total.Minor.Injuries</th>\n",
       "      <th>Total.Uninjured</th>\n",
       "    </tr>\n",
       "  </thead>\n",
       "  <tbody>\n",
       "    <tr>\n",
       "      <th>count</th>\n",
       "      <td>82805.000000</td>\n",
       "      <td>77488.000000</td>\n",
       "      <td>76379.000000</td>\n",
       "      <td>76956.000000</td>\n",
       "      <td>82977.000000</td>\n",
       "    </tr>\n",
       "    <tr>\n",
       "      <th>mean</th>\n",
       "      <td>1.146585</td>\n",
       "      <td>0.647855</td>\n",
       "      <td>0.279881</td>\n",
       "      <td>0.357061</td>\n",
       "      <td>5.325440</td>\n",
       "    </tr>\n",
       "    <tr>\n",
       "      <th>std</th>\n",
       "      <td>0.446510</td>\n",
       "      <td>5.485960</td>\n",
       "      <td>1.544084</td>\n",
       "      <td>2.235625</td>\n",
       "      <td>27.913634</td>\n",
       "    </tr>\n",
       "    <tr>\n",
       "      <th>min</th>\n",
       "      <td>0.000000</td>\n",
       "      <td>0.000000</td>\n",
       "      <td>0.000000</td>\n",
       "      <td>0.000000</td>\n",
       "      <td>0.000000</td>\n",
       "    </tr>\n",
       "    <tr>\n",
       "      <th>25%</th>\n",
       "      <td>1.000000</td>\n",
       "      <td>0.000000</td>\n",
       "      <td>0.000000</td>\n",
       "      <td>0.000000</td>\n",
       "      <td>0.000000</td>\n",
       "    </tr>\n",
       "    <tr>\n",
       "      <th>50%</th>\n",
       "      <td>1.000000</td>\n",
       "      <td>0.000000</td>\n",
       "      <td>0.000000</td>\n",
       "      <td>0.000000</td>\n",
       "      <td>1.000000</td>\n",
       "    </tr>\n",
       "    <tr>\n",
       "      <th>75%</th>\n",
       "      <td>1.000000</td>\n",
       "      <td>0.000000</td>\n",
       "      <td>0.000000</td>\n",
       "      <td>0.000000</td>\n",
       "      <td>2.000000</td>\n",
       "    </tr>\n",
       "    <tr>\n",
       "      <th>max</th>\n",
       "      <td>8.000000</td>\n",
       "      <td>349.000000</td>\n",
       "      <td>161.000000</td>\n",
       "      <td>380.000000</td>\n",
       "      <td>699.000000</td>\n",
       "    </tr>\n",
       "  </tbody>\n",
       "</table>\n",
       "</div>"
      ],
      "text/plain": [
       "       Number.of.Engines  Total.Fatal.Injuries  Total.Serious.Injuries  \\\n",
       "count       82805.000000          77488.000000            76379.000000   \n",
       "mean            1.146585              0.647855                0.279881   \n",
       "std             0.446510              5.485960                1.544084   \n",
       "min             0.000000              0.000000                0.000000   \n",
       "25%             1.000000              0.000000                0.000000   \n",
       "50%             1.000000              0.000000                0.000000   \n",
       "75%             1.000000              0.000000                0.000000   \n",
       "max             8.000000            349.000000              161.000000   \n",
       "\n",
       "       Total.Minor.Injuries  Total.Uninjured  \n",
       "count          76956.000000     82977.000000  \n",
       "mean               0.357061         5.325440  \n",
       "std                2.235625        27.913634  \n",
       "min                0.000000         0.000000  \n",
       "25%                0.000000         0.000000  \n",
       "50%                0.000000         1.000000  \n",
       "75%                0.000000         2.000000  \n",
       "max              380.000000       699.000000  "
      ]
     },
     "execution_count": 148,
     "metadata": {},
     "output_type": "execute_result"
    }
   ],
   "source": [
    "init_aviat_df.describe()"
   ]
  },
  {
   "cell_type": "markdown",
   "id": "2e9b8cc7",
   "metadata": {},
   "source": [
    "## Data Cleaning"
   ]
  },
  {
   "cell_type": "markdown",
   "id": "c23efd78",
   "metadata": {},
   "source": [
    "### Filtering aircrafts and events"
   ]
  },
  {
   "cell_type": "markdown",
   "id": "9c399343",
   "metadata": {},
   "source": [
    "We want to filter the dataset to include aircraft that the client is interested in an analysis of:\n",
    "- inspect relevant columns\n",
    "- figure out any reasonable imputations\n",
    "- filter the dataset"
   ]
  },
  {
   "cell_type": "markdown",
   "id": "95a0b327",
   "metadata": {},
   "source": [
    "*The student should be able to identify which columns are relevant -- namely Aircraft.Category, Amateur.Built, and Event.Date*"
   ]
  },
  {
   "cell_type": "markdown",
   "id": "3e6647a6",
   "metadata": {},
   "source": [
    "**Aircraft.Category**\n",
    "- client is only interested in Airplanes"
   ]
  },
  {
   "cell_type": "code",
   "execution_count": 149,
   "id": "a523d6fa",
   "metadata": {},
   "outputs": [
    {
     "name": "stdout",
     "output_type": "stream",
     "text": [
      "56602\n",
      "Aircraft.Category\n",
      "Airplane             27617\n",
      "Helicopter            3440\n",
      "Glider                 508\n",
      "Balloon                231\n",
      "Gyrocraft              173\n",
      "Weight-Shift           161\n",
      "Powered Parachute       91\n",
      "Ultralight              30\n",
      "Unknown                 14\n",
      "WSFT                     9\n",
      "Powered-Lift             5\n",
      "Blimp                    4\n",
      "UNK                      2\n",
      "Rocket                   1\n",
      "ULTR                     1\n",
      "Name: count, dtype: int64\n"
     ]
    }
   ],
   "source": [
    "print(init_aviat_df['Aircraft.Category'].isna().sum())\n",
    "print(init_aviat_df['Aircraft.Category'].value_counts())"
   ]
  },
  {
   "cell_type": "code",
   "execution_count": 150,
   "id": "b86c5b9c",
   "metadata": {},
   "outputs": [
    {
     "data": {
      "text/html": [
       "<div>\n",
       "<style scoped>\n",
       "    .dataframe tbody tr th:only-of-type {\n",
       "        vertical-align: middle;\n",
       "    }\n",
       "\n",
       "    .dataframe tbody tr th {\n",
       "        vertical-align: top;\n",
       "    }\n",
       "\n",
       "    .dataframe thead th {\n",
       "        text-align: right;\n",
       "    }\n",
       "</style>\n",
       "<table border=\"1\" class=\"dataframe\">\n",
       "  <thead>\n",
       "    <tr style=\"text-align: right;\">\n",
       "      <th></th>\n",
       "      <th>Make</th>\n",
       "      <th>Aircraft.Category</th>\n",
       "    </tr>\n",
       "  </thead>\n",
       "  <tbody>\n",
       "    <tr>\n",
       "      <th>0</th>\n",
       "      <td>Stinson</td>\n",
       "      <td>NaN</td>\n",
       "    </tr>\n",
       "    <tr>\n",
       "      <th>1</th>\n",
       "      <td>Piper</td>\n",
       "      <td>NaN</td>\n",
       "    </tr>\n",
       "    <tr>\n",
       "      <th>2</th>\n",
       "      <td>Cessna</td>\n",
       "      <td>NaN</td>\n",
       "    </tr>\n",
       "    <tr>\n",
       "      <th>3</th>\n",
       "      <td>Rockwell</td>\n",
       "      <td>NaN</td>\n",
       "    </tr>\n",
       "    <tr>\n",
       "      <th>4</th>\n",
       "      <td>Cessna</td>\n",
       "      <td>NaN</td>\n",
       "    </tr>\n",
       "  </tbody>\n",
       "</table>\n",
       "</div>"
      ],
      "text/plain": [
       "       Make Aircraft.Category\n",
       "0   Stinson               NaN\n",
       "1     Piper               NaN\n",
       "2    Cessna               NaN\n",
       "3  Rockwell               NaN\n",
       "4    Cessna               NaN"
      ]
     },
     "execution_count": 150,
     "metadata": {},
     "output_type": "execute_result"
    }
   ],
   "source": [
    "init_aviat_df.head()[['Make', 'Aircraft.Category']]"
   ]
  },
  {
   "cell_type": "code",
   "execution_count": 151,
   "id": "2efc00a1",
   "metadata": {},
   "outputs": [
    {
     "data": {
      "text/plain": [
       "Aircraft.Category\n",
       "Airplane             84219\n",
       "Helicopter            3440\n",
       "Glider                 508\n",
       "Balloon                231\n",
       "Gyrocraft              173\n",
       "Weight-Shift           161\n",
       "Powered Parachute       91\n",
       "Ultralight              30\n",
       "Unknown                 14\n",
       "WSFT                     9\n",
       "Powered-Lift             5\n",
       "Blimp                    4\n",
       "UNK                      2\n",
       "Rocket                   1\n",
       "ULTR                     1\n",
       "Name: count, dtype: int64"
      ]
     },
     "execution_count": 151,
     "metadata": {},
     "output_type": "execute_result"
    }
   ],
   "source": [
    "# these are all Airplane manufacturers implying that the vast majority of NaNs are Airplanes. \n",
    "# Also, given that this is the mode of the known distribution it seems reasonable to impute the column as follows:\n",
    "\n",
    "init_aviat_df['Aircraft.Category'] = init_aviat_df['Aircraft.Category'].fillna('Airplane')\n",
    "init_aviat_df['Aircraft.Category'].value_counts()"
   ]
  },
  {
   "cell_type": "code",
   "execution_count": 152,
   "id": "ec1d6981",
   "metadata": {},
   "outputs": [
    {
     "name": "stdout",
     "output_type": "stream",
     "text": [
      "<class 'pandas.core.frame.DataFrame'>\n",
      "Index: 84219 entries, 0 to 88888\n",
      "Data columns (total 31 columns):\n",
      " #   Column                  Non-Null Count  Dtype  \n",
      "---  ------                  --------------  -----  \n",
      " 0   Event.Id                84219 non-null  object \n",
      " 1   Investigation.Type      84219 non-null  object \n",
      " 2   Accident.Number         84219 non-null  object \n",
      " 3   Event.Date              84219 non-null  object \n",
      " 4   Location                84169 non-null  object \n",
      " 5   Country                 83998 non-null  object \n",
      " 6   Latitude                30507 non-null  object \n",
      " 7   Longitude               30499 non-null  object \n",
      " 8   Airport.Code            48307 non-null  object \n",
      " 9   Airport.Name            50802 non-null  object \n",
      " 10  Injury.Severity         83289 non-null  object \n",
      " 11  Aircraft.damage         81201 non-null  object \n",
      " 12  Aircraft.Category       84219 non-null  object \n",
      " 13  Registration.Number     82888 non-null  object \n",
      " 14  Make                    84159 non-null  object \n",
      " 15  Model                   84129 non-null  object \n",
      " 16  Amateur.Built           84119 non-null  object \n",
      " 17  Number.of.Engines       78838 non-null  float64\n",
      " 18  Engine.Type             78456 non-null  object \n",
      " 19  FAR.Description         27462 non-null  object \n",
      " 20  Schedule                12084 non-null  object \n",
      " 21  Purpose.of.flight       78736 non-null  object \n",
      " 22  Air.carrier             14290 non-null  object \n",
      " 23  Total.Fatal.Injuries    73364 non-null  float64\n",
      " 24  Total.Serious.Injuries  72205 non-null  float64\n",
      " 25  Total.Minor.Injuries    72740 non-null  float64\n",
      " 26  Total.Uninjured         78487 non-null  float64\n",
      " 27  Weather.Condition       80337 non-null  object \n",
      " 28  Broad.phase.of.flight   60754 non-null  object \n",
      " 29  Report.Status           78825 non-null  object \n",
      " 30  Publication.Date        70638 non-null  object \n",
      "dtypes: float64(5), object(26)\n",
      "memory usage: 20.6+ MB\n"
     ]
    }
   ],
   "source": [
    "air_df = init_aviat_df[init_aviat_df['Aircraft.Category'] == 'Airplane']\n",
    "air_df.info()"
   ]
  },
  {
   "cell_type": "markdown",
   "id": "f2cc46cb",
   "metadata": {},
   "source": [
    "**Amateur.Built**\n",
    "- client is only interested in professional builds"
   ]
  },
  {
   "cell_type": "code",
   "execution_count": 153,
   "id": "3a7a8bb8",
   "metadata": {},
   "outputs": [
    {
     "data": {
      "text/plain": [
       "Amateur.Built\n",
       "No     76008\n",
       "Yes     8111\n",
       "Name: count, dtype: int64"
      ]
     },
     "execution_count": 153,
     "metadata": {},
     "output_type": "execute_result"
    }
   ],
   "source": [
    "air_df['Amateur.Built'].value_counts()"
   ]
  },
  {
   "cell_type": "code",
   "execution_count": 154,
   "id": "55856011",
   "metadata": {},
   "outputs": [
    {
     "data": {
      "text/plain": [
       "0    No\n",
       "1    No\n",
       "2    No\n",
       "3    No\n",
       "4    No\n",
       "Name: Amateur.Built, dtype: object"
      ]
     },
     "execution_count": 154,
     "metadata": {},
     "output_type": "execute_result"
    }
   ],
   "source": [
    "# filter out all amateur builds\n",
    "air_df = air_df[air_df['Amateur.Built'] == 'No']\n",
    "air_df['Amateur.Built'].head()"
   ]
  },
  {
   "cell_type": "markdown",
   "id": "40da20b6",
   "metadata": {},
   "source": [
    "**Event.Date**\n",
    "- removing all events older than 40 years ago"
   ]
  },
  {
   "cell_type": "code",
   "execution_count": 155,
   "id": "2f6d82fc",
   "metadata": {},
   "outputs": [
    {
     "name": "stderr",
     "output_type": "stream",
     "text": [
      "C:\\Users\\Praveen\\AppData\\Local\\Temp\\ipykernel_8324\\2438261155.py:2: UserWarning: Parsing dates in %d-%m-%Y format when dayfirst=False (the default) was specified. Pass `dayfirst=True` or specify a format to silence this warning.\n",
      "  air_df['Report_Date'] = pd.to_datetime(air_df['Publication.Date'])\n"
     ]
    },
    {
     "data": {
      "text/html": [
       "<div>\n",
       "<style scoped>\n",
       "    .dataframe tbody tr th:only-of-type {\n",
       "        vertical-align: middle;\n",
       "    }\n",
       "\n",
       "    .dataframe tbody tr th {\n",
       "        vertical-align: top;\n",
       "    }\n",
       "\n",
       "    .dataframe thead th {\n",
       "        text-align: right;\n",
       "    }\n",
       "</style>\n",
       "<table border=\"1\" class=\"dataframe\">\n",
       "  <thead>\n",
       "    <tr style=\"text-align: right;\">\n",
       "      <th></th>\n",
       "      <th>Event.Id</th>\n",
       "      <th>Investigation.Type</th>\n",
       "      <th>Accident.Number</th>\n",
       "      <th>Event.Date</th>\n",
       "      <th>Location</th>\n",
       "      <th>Country</th>\n",
       "      <th>Latitude</th>\n",
       "      <th>Longitude</th>\n",
       "      <th>Airport.Code</th>\n",
       "      <th>Airport.Name</th>\n",
       "      <th>...</th>\n",
       "      <th>Air.carrier</th>\n",
       "      <th>Total.Fatal.Injuries</th>\n",
       "      <th>Total.Serious.Injuries</th>\n",
       "      <th>Total.Minor.Injuries</th>\n",
       "      <th>Total.Uninjured</th>\n",
       "      <th>Weather.Condition</th>\n",
       "      <th>Broad.phase.of.flight</th>\n",
       "      <th>Report.Status</th>\n",
       "      <th>Publication.Date</th>\n",
       "      <th>Report_Date</th>\n",
       "    </tr>\n",
       "  </thead>\n",
       "  <tbody>\n",
       "    <tr>\n",
       "      <th>20</th>\n",
       "      <td>20020917X01894</td>\n",
       "      <td>Accident</td>\n",
       "      <td>CHI82FEC08</td>\n",
       "      <td>1982-01-02</td>\n",
       "      <td>YPSILANTI, MI</td>\n",
       "      <td>United States</td>\n",
       "      <td>NaN</td>\n",
       "      <td>NaN</td>\n",
       "      <td>YIP</td>\n",
       "      <td>WILLOW RUN</td>\n",
       "      <td>...</td>\n",
       "      <td>NaN</td>\n",
       "      <td>0.0</td>\n",
       "      <td>0.0</td>\n",
       "      <td>0.0</td>\n",
       "      <td>1.0</td>\n",
       "      <td>VMC</td>\n",
       "      <td>Takeoff</td>\n",
       "      <td>Probable Cause</td>\n",
       "      <td>02-01-1983</td>\n",
       "      <td>1983-01-02</td>\n",
       "    </tr>\n",
       "    <tr>\n",
       "      <th>17</th>\n",
       "      <td>20020917X01656</td>\n",
       "      <td>Accident</td>\n",
       "      <td>ANC82FAG14</td>\n",
       "      <td>1982-01-02</td>\n",
       "      <td>SKWENTA, AK</td>\n",
       "      <td>United States</td>\n",
       "      <td>NaN</td>\n",
       "      <td>NaN</td>\n",
       "      <td>NaN</td>\n",
       "      <td>NaN</td>\n",
       "      <td>...</td>\n",
       "      <td>NaN</td>\n",
       "      <td>3.0</td>\n",
       "      <td>0.0</td>\n",
       "      <td>0.0</td>\n",
       "      <td>0.0</td>\n",
       "      <td>VMC</td>\n",
       "      <td>Unknown</td>\n",
       "      <td>Probable Cause</td>\n",
       "      <td>02-01-1983</td>\n",
       "      <td>1983-01-02</td>\n",
       "    </tr>\n",
       "    <tr>\n",
       "      <th>15</th>\n",
       "      <td>20020917X02117</td>\n",
       "      <td>Accident</td>\n",
       "      <td>FTW82FPG08</td>\n",
       "      <td>1982-01-02</td>\n",
       "      <td>LITTLE ROCK, AR</td>\n",
       "      <td>United States</td>\n",
       "      <td>NaN</td>\n",
       "      <td>NaN</td>\n",
       "      <td>NaN</td>\n",
       "      <td>NaN</td>\n",
       "      <td>...</td>\n",
       "      <td>NaN</td>\n",
       "      <td>2.0</td>\n",
       "      <td>0.0</td>\n",
       "      <td>0.0</td>\n",
       "      <td>0.0</td>\n",
       "      <td>IMC</td>\n",
       "      <td>Cruise</td>\n",
       "      <td>Probable Cause</td>\n",
       "      <td>02-01-1983</td>\n",
       "      <td>1983-01-02</td>\n",
       "    </tr>\n",
       "    <tr>\n",
       "      <th>14</th>\n",
       "      <td>20020917X02119</td>\n",
       "      <td>Accident</td>\n",
       "      <td>FTW82FPJ10</td>\n",
       "      <td>1982-01-02</td>\n",
       "      <td>CHICKASHA, OK</td>\n",
       "      <td>United States</td>\n",
       "      <td>NaN</td>\n",
       "      <td>NaN</td>\n",
       "      <td>NaN</td>\n",
       "      <td>NaN</td>\n",
       "      <td>...</td>\n",
       "      <td>NaN</td>\n",
       "      <td>1.0</td>\n",
       "      <td>0.0</td>\n",
       "      <td>0.0</td>\n",
       "      <td>0.0</td>\n",
       "      <td>IMC</td>\n",
       "      <td>Cruise</td>\n",
       "      <td>Probable Cause</td>\n",
       "      <td>02-01-1983</td>\n",
       "      <td>1983-01-02</td>\n",
       "    </tr>\n",
       "    <tr>\n",
       "      <th>13</th>\n",
       "      <td>20020917X02134</td>\n",
       "      <td>Accident</td>\n",
       "      <td>FTW82FRA14</td>\n",
       "      <td>1982-01-02</td>\n",
       "      <td>HEARNE, TX</td>\n",
       "      <td>United States</td>\n",
       "      <td>NaN</td>\n",
       "      <td>NaN</td>\n",
       "      <td>T72</td>\n",
       "      <td>HEARNE MUNICIPAL</td>\n",
       "      <td>...</td>\n",
       "      <td>NaN</td>\n",
       "      <td>1.0</td>\n",
       "      <td>0.0</td>\n",
       "      <td>0.0</td>\n",
       "      <td>0.0</td>\n",
       "      <td>IMC</td>\n",
       "      <td>Takeoff</td>\n",
       "      <td>Probable Cause</td>\n",
       "      <td>02-01-1983</td>\n",
       "      <td>1983-01-02</td>\n",
       "    </tr>\n",
       "  </tbody>\n",
       "</table>\n",
       "<p>5 rows × 32 columns</p>\n",
       "</div>"
      ],
      "text/plain": [
       "          Event.Id Investigation.Type Accident.Number  Event.Date  \\\n",
       "20  20020917X01894           Accident      CHI82FEC08  1982-01-02   \n",
       "17  20020917X01656           Accident      ANC82FAG14  1982-01-02   \n",
       "15  20020917X02117           Accident      FTW82FPG08  1982-01-02   \n",
       "14  20020917X02119           Accident      FTW82FPJ10  1982-01-02   \n",
       "13  20020917X02134           Accident      FTW82FRA14  1982-01-02   \n",
       "\n",
       "           Location        Country Latitude Longitude Airport.Code  \\\n",
       "20    YPSILANTI, MI  United States      NaN       NaN          YIP   \n",
       "17      SKWENTA, AK  United States      NaN       NaN          NaN   \n",
       "15  LITTLE ROCK, AR  United States      NaN       NaN          NaN   \n",
       "14    CHICKASHA, OK  United States      NaN       NaN          NaN   \n",
       "13       HEARNE, TX  United States      NaN       NaN          T72   \n",
       "\n",
       "        Airport.Name  ... Air.carrier Total.Fatal.Injuries  \\\n",
       "20        WILLOW RUN  ...         NaN                  0.0   \n",
       "17               NaN  ...         NaN                  3.0   \n",
       "15               NaN  ...         NaN                  2.0   \n",
       "14               NaN  ...         NaN                  1.0   \n",
       "13  HEARNE MUNICIPAL  ...         NaN                  1.0   \n",
       "\n",
       "   Total.Serious.Injuries Total.Minor.Injuries Total.Uninjured  \\\n",
       "20                    0.0                  0.0             1.0   \n",
       "17                    0.0                  0.0             0.0   \n",
       "15                    0.0                  0.0             0.0   \n",
       "14                    0.0                  0.0             0.0   \n",
       "13                    0.0                  0.0             0.0   \n",
       "\n",
       "   Weather.Condition Broad.phase.of.flight   Report.Status Publication.Date  \\\n",
       "20               VMC               Takeoff  Probable Cause       02-01-1983   \n",
       "17               VMC               Unknown  Probable Cause       02-01-1983   \n",
       "15               IMC                Cruise  Probable Cause       02-01-1983   \n",
       "14               IMC                Cruise  Probable Cause       02-01-1983   \n",
       "13               IMC               Takeoff  Probable Cause       02-01-1983   \n",
       "\n",
       "   Report_Date  \n",
       "20  1983-01-02  \n",
       "17  1983-01-02  \n",
       "15  1983-01-02  \n",
       "14  1983-01-02  \n",
       "13  1983-01-02  \n",
       "\n",
       "[5 rows x 32 columns]"
      ]
     },
     "execution_count": 155,
     "metadata": {},
     "output_type": "execute_result"
    }
   ],
   "source": [
    "air_df = air_df.dropna(subset = ['Publication.Date'])\n",
    "air_df['Report_Date'] = pd.to_datetime(air_df['Publication.Date'])\n",
    "air_df = air_df.sort_values(by = ['Report_Date'])\n",
    "air_df = air_df[air_df['Report_Date'] > '1983']\n",
    "\n",
    "air_df.head()"
   ]
  },
  {
   "cell_type": "markdown",
   "id": "36d26002",
   "metadata": {},
   "source": [
    "### Cleaning and constructing Key Measurables\n",
    "\n",
    "Injuries and robustness to destruction are a key interest point for the client. Clean and impute relevant columns and then create derived fields that best quantifies what the client wishes to track. **Use commenting or markdown to explain any cleaning assumptions as well as any derived columns you create.**"
   ]
  },
  {
   "cell_type": "markdown",
   "id": "070b08f8",
   "metadata": {},
   "source": [
    "**Construct metric for fatal/serious injuries**\n",
    "\n",
    "*Hint:* Estimate the total number of passengers on each flight. The likelihood of serious / fatal injury can be estimated as a fraction from this."
   ]
  },
  {
   "cell_type": "code",
   "execution_count": 156,
   "id": "75d68548",
   "metadata": {},
   "outputs": [
    {
     "name": "stdout",
     "output_type": "stream",
     "text": [
      "Index(['Total.Fatal.Injuries', 'Total.Serious.Injuries',\n",
      "       'Total.Minor.Injuries', 'Total.Uninjured'],\n",
      "      dtype='object')\n"
     ]
    },
    {
     "data": {
      "text/plain": [
       "Total.Fatal.Injuries       9511\n",
       "Total.Serious.Injuries    10411\n",
       "Total.Minor.Injuries       9909\n",
       "Total.Uninjured            4554\n",
       "dtype: int64"
      ]
     },
     "execution_count": 156,
     "metadata": {},
     "output_type": "execute_result"
    }
   ],
   "source": [
    "# get total number of passenger one each flight\n",
    "injury_col_names = air_df.columns[air_df.columns.str.contains('njur')][1::]\n",
    "print(injury_col_names)\n",
    "\n",
    "air_df[injury_col_names].isna().sum()"
   ]
  },
  {
   "cell_type": "code",
   "execution_count": 157,
   "id": "c2da274c",
   "metadata": {
    "scrolled": true
   },
   "outputs": [
    {
     "data": {
      "text/plain": [
       "140"
      ]
     },
     "execution_count": 157,
     "metadata": {},
     "output_type": "execute_result"
    }
   ],
   "source": [
    "# many ways to clean. there are some columns that have no data in the injuries stats and should be removed.\n",
    "air_df[injury_col_names].isna().all(axis = 1).sum()"
   ]
  },
  {
   "cell_type": "code",
   "execution_count": 158,
   "id": "3c5d4cee",
   "metadata": {},
   "outputs": [],
   "source": [
    "# filters all data that contains NaNs in the injury columns\n",
    "air_df = air_df[~air_df[injury_col_names].isna().all(axis = 1)]"
   ]
  },
  {
   "cell_type": "code",
   "execution_count": 159,
   "id": "0d6e1033",
   "metadata": {},
   "outputs": [
    {
     "data": {
      "text/plain": [
       "Total.Fatal.Injuries       9371\n",
       "Total.Serious.Injuries    10271\n",
       "Total.Minor.Injuries       9769\n",
       "Total.Uninjured            4414\n",
       "dtype: int64"
      ]
     },
     "execution_count": 159,
     "metadata": {},
     "output_type": "execute_result"
    }
   ],
   "source": [
    "air_df[injury_col_names].isna().sum()"
   ]
  },
  {
   "cell_type": "code",
   "execution_count": 160,
   "id": "56f2f17d",
   "metadata": {
    "scrolled": false
   },
   "outputs": [
    {
     "data": {
      "text/plain": [
       "Total.Fatal.Injuries      0\n",
       "Total.Serious.Injuries    0\n",
       "Total.Minor.Injuries      0\n",
       "Total.Uninjured           0\n",
       "dtype: int64"
      ]
     },
     "execution_count": 160,
     "metadata": {},
     "output_type": "execute_result"
    }
   ],
   "source": [
    "# we will assume for the rest that a blank simply meant that the corresponding data was 0 and was simply not recorded.\n",
    "# but other valid strategies are dropping all nans, etc.\n",
    "air_df.loc[:,injury_col_names] = air_df[injury_col_names].fillna(0)\n",
    "air_df[injury_col_names].isna().sum()"
   ]
  },
  {
   "cell_type": "code",
   "execution_count": 190,
   "id": "d64e608f",
   "metadata": {},
   "outputs": [
    {
     "data": {
      "text/plain": [
       "20    0.0\n",
       "17    1.0\n",
       "15    1.0\n",
       "14    1.0\n",
       "13    1.0\n",
       "Name: ser_inj_frac, dtype: float64"
      ]
     },
     "execution_count": 190,
     "metadata": {},
     "output_type": "execute_result"
    }
   ],
   "source": [
    "# the client is interested in the likelihood of fatal/serious injuries given an accident.\n",
    "# this can be represented as a fraction of fatal+serious injuries over total passengers (injured+uninjured)\n",
    "\n",
    "# calculate total passenger number\n",
    "air_df.loc[:,'N_passenger'] = air_df.loc[:,injury_col_names].sum(axis = 1)\n",
    "\n",
    "# remove any rows where via the total number of passengers has been calculated to be 0\n",
    "air_df = air_df[air_df['N_passenger'] > 0]\n",
    " \n",
    "# calculate fatal+serious injury fraction\n",
    "\n",
    "air_df['ser_inj_frac'] = (air_df['Total.Fatal.Injuries'] + air_df['Total.Serious.Injuries'])/air_df['N_passenger']\n",
    "air_df['ser_inj_frac'].head()"
   ]
  },
  {
   "cell_type": "markdown",
   "id": "6c89136b",
   "metadata": {},
   "source": [
    "**Aircraft.Damage**\n",
    "- identify and execute any cleaning tasks\n",
    "- construct a derived column tracking whether an aircraft was destroyed or not."
   ]
  },
  {
   "cell_type": "code",
   "execution_count": 162,
   "id": "505cc86f",
   "metadata": {
    "scrolled": true
   },
   "outputs": [
    {
     "name": "stdout",
     "output_type": "stream",
     "text": [
      "<class 'pandas.core.frame.DataFrame'>\n",
      "Index: 62451 entries, 20 to 88888\n",
      "Data columns (total 34 columns):\n",
      " #   Column                  Non-Null Count  Dtype         \n",
      "---  ------                  --------------  -----         \n",
      " 0   Event.Id                62451 non-null  object        \n",
      " 1   Investigation.Type      62451 non-null  object        \n",
      " 2   Accident.Number         62451 non-null  object        \n",
      " 3   Event.Date              62451 non-null  object        \n",
      " 4   Location                62420 non-null  object        \n",
      " 5   Country                 62296 non-null  object        \n",
      " 6   Latitude                25945 non-null  object        \n",
      " 7   Longitude               25940 non-null  object        \n",
      " 8   Airport.Code            36821 non-null  object        \n",
      " 9   Airport.Name            38276 non-null  object        \n",
      " 10  Injury.Severity         62451 non-null  object        \n",
      " 11  Aircraft.damage         60437 non-null  object        \n",
      " 12  Aircraft.Category       62451 non-null  object        \n",
      " 13  Registration.Number     61579 non-null  object        \n",
      " 14  Make                    62429 non-null  object        \n",
      " 15  Model                   62414 non-null  object        \n",
      " 16  Amateur.Built           62451 non-null  object        \n",
      " 17  Number.of.Engines       58905 non-null  float64       \n",
      " 18  Engine.Type             58618 non-null  object        \n",
      " 19  FAR.Description         22691 non-null  object        \n",
      " 20  Schedule                9046 non-null   object        \n",
      " 21  Purpose.of.flight       58512 non-null  object        \n",
      " 22  Air.carrier             12088 non-null  object        \n",
      " 23  Total.Fatal.Injuries    62451 non-null  float64       \n",
      " 24  Total.Serious.Injuries  62451 non-null  float64       \n",
      " 25  Total.Minor.Injuries    62451 non-null  float64       \n",
      " 26  Total.Uninjured         62451 non-null  float64       \n",
      " 27  Weather.Condition       60163 non-null  object        \n",
      " 28  Broad.phase.of.flight   43687 non-null  object        \n",
      " 29  Report.Status           58844 non-null  object        \n",
      " 30  Publication.Date        62451 non-null  object        \n",
      " 31  Report_Date             62451 non-null  datetime64[ns]\n",
      " 32  N_passenger             62451 non-null  float64       \n",
      " 33  ser_inj_frac            62451 non-null  float64       \n",
      "dtypes: datetime64[ns](1), float64(7), object(26)\n",
      "memory usage: 16.7+ MB\n"
     ]
    }
   ],
   "source": [
    "air_df.info()"
   ]
  },
  {
   "cell_type": "code",
   "execution_count": 163,
   "id": "af84b6fd",
   "metadata": {},
   "outputs": [],
   "source": [
    "# NaNs and unknowns in Aircraft Damage. Removing them."
   ]
  },
  {
   "cell_type": "code",
   "execution_count": 164,
   "id": "e55b2de3",
   "metadata": {
    "scrolled": true
   },
   "outputs": [
    {
     "name": "stdout",
     "output_type": "stream",
     "text": [
      "['Substantial' 'Destroyed' 'Minor' nan 'Unknown']\n",
      "Aircraft.damage\n",
      "Substantial    46048\n",
      "Destroyed      12494\n",
      "Minor           1854\n",
      "Unknown           41\n",
      "Name: count, dtype: int64\n"
     ]
    }
   ],
   "source": [
    "print(air_df['Aircraft.damage'].unique())\n",
    "print(air_df['Aircraft.damage'].value_counts())"
   ]
  },
  {
   "cell_type": "code",
   "execution_count": 165,
   "id": "cd430ff6",
   "metadata": {
    "scrolled": true
   },
   "outputs": [
    {
     "name": "stdout",
     "output_type": "stream",
     "text": [
      "<class 'pandas.core.frame.DataFrame'>\n",
      "Index: 60396 entries, 20 to 88784\n",
      "Data columns (total 34 columns):\n",
      " #   Column                  Non-Null Count  Dtype         \n",
      "---  ------                  --------------  -----         \n",
      " 0   Event.Id                60396 non-null  object        \n",
      " 1   Investigation.Type      60396 non-null  object        \n",
      " 2   Accident.Number         60396 non-null  object        \n",
      " 3   Event.Date              60396 non-null  object        \n",
      " 4   Location                60368 non-null  object        \n",
      " 5   Country                 60252 non-null  object        \n",
      " 6   Latitude                25230 non-null  object        \n",
      " 7   Longitude               25224 non-null  object        \n",
      " 8   Airport.Code            35965 non-null  object        \n",
      " 9   Airport.Name            37414 non-null  object        \n",
      " 10  Injury.Severity         60396 non-null  object        \n",
      " 11  Aircraft.damage         60396 non-null  object        \n",
      " 12  Aircraft.Category       60396 non-null  object        \n",
      " 13  Registration.Number     59606 non-null  object        \n",
      " 14  Make                    60380 non-null  object        \n",
      " 15  Model                   60365 non-null  object        \n",
      " 16  Amateur.Built           60396 non-null  object        \n",
      " 17  Number.of.Engines       57384 non-null  float64       \n",
      " 18  Engine.Type             57114 non-null  object        \n",
      " 19  FAR.Description         21881 non-null  object        \n",
      " 20  Schedule                7734 non-null   object        \n",
      " 21  Purpose.of.flight       57390 non-null  object        \n",
      " 22  Air.carrier             11025 non-null  object        \n",
      " 23  Total.Fatal.Injuries    60396 non-null  float64       \n",
      " 24  Total.Serious.Injuries  60396 non-null  float64       \n",
      " 25  Total.Minor.Injuries    60396 non-null  float64       \n",
      " 26  Total.Uninjured         60396 non-null  float64       \n",
      " 27  Weather.Condition       58582 non-null  object        \n",
      " 28  Broad.phase.of.flight   42527 non-null  object        \n",
      " 29  Report.Status           57237 non-null  object        \n",
      " 30  Publication.Date        60396 non-null  object        \n",
      " 31  Report_Date             60396 non-null  datetime64[ns]\n",
      " 32  N_passenger             60396 non-null  float64       \n",
      " 33  ser_inj_frac            60396 non-null  float64       \n",
      "dtypes: datetime64[ns](1), float64(7), object(26)\n",
      "memory usage: 16.1+ MB\n"
     ]
    }
   ],
   "source": [
    "air_df['Aircraft.damage'] = air_df['Aircraft.damage'].replace({'Unknown': np.nan})\n",
    "air_df.dropna(subset = ['Aircraft.damage'], inplace = True)\n",
    "air_df.info()"
   ]
  },
  {
   "cell_type": "code",
   "execution_count": 166,
   "id": "beb4fe1a",
   "metadata": {},
   "outputs": [
    {
     "data": {
      "text/plain": [
       "20    0\n",
       "17    1\n",
       "15    1\n",
       "14    1\n",
       "13    1\n",
       "Name: is_destroyed, dtype: int32"
      ]
     },
     "execution_count": 166,
     "metadata": {},
     "output_type": "execute_result"
    }
   ],
   "source": [
    "# created derived column for aircraft destroyed (boolean mask and convert to int with 1 = destroyed)\n",
    "air_df['is_destroyed'] = (air_df['Aircraft.damage'] == 'Destroyed').astype('int')\n",
    "air_df['is_destroyed'].head()"
   ]
  },
  {
   "cell_type": "markdown",
   "id": "e9d8af9b",
   "metadata": {},
   "source": [
    "### Investigate the *Make* column\n",
    "- Identify cleaning tasks here\n",
    "- List cleaning tasks clearly in markdown\n",
    "- Execute the cleaning tasks\n",
    "- For your analysis, keep Makes with a reasonable number (you can put the threshold at 50 though lower could work as well)"
   ]
  },
  {
   "cell_type": "code",
   "execution_count": 167,
   "id": "4b5da281",
   "metadata": {},
   "outputs": [
    {
     "data": {
      "text/plain": [
       "Make\n",
       "Cessna                17456\n",
       "Piper                  9435\n",
       "CESSNA                 4567\n",
       "Beech                  3439\n",
       "PIPER                  2668\n",
       "                      ...  \n",
       "EVOLUTION TRIKES          1\n",
       "Barr                      1\n",
       "BUCKEYE INDUSTRIES        1\n",
       "Valentin                  1\n",
       "SCOTT TERRY G             1\n",
       "Name: count, Length: 1738, dtype: int64"
      ]
     },
     "execution_count": 167,
     "metadata": {},
     "output_type": "execute_result"
    }
   ],
   "source": [
    "# student should notice that there is a casing problem and that many of the Makes have two few observations for statistical robustness\n",
    "# casing and string cleaning should be done before count filtering\n",
    "air_df['Make'].value_counts()"
   ]
  },
  {
   "cell_type": "code",
   "execution_count": 168,
   "id": "117e289a",
   "metadata": {},
   "outputs": [
    {
     "data": {
      "text/plain": [
       "Make\n",
       "CESSNA                      22023\n",
       "PIPER                       12103\n",
       "BEECH                        4417\n",
       "BELL                         1348\n",
       "BOEING                       1157\n",
       "                            ...  \n",
       "EVEKTOR-AEROTECHNIK A.S.        1\n",
       "OPUS MOTORSPORTS LLC            1\n",
       "CHRISTEN INDUSTRIES INC.        1\n",
       "ZLIN AVIATION S.R.O.            1\n",
       "SCOTT TERRY G                   1\n",
       "Name: count, Length: 1430, dtype: int64"
      ]
     },
     "execution_count": 168,
     "metadata": {},
     "output_type": "execute_result"
    }
   ],
   "source": [
    "# execute recasing to normalize Make strings\n",
    "air_df.loc[:,'Make'] = air_df['Make'].str.upper()\n",
    "air_df['Make'].value_counts()"
   ]
  },
  {
   "cell_type": "code",
   "execution_count": 169,
   "id": "648940ba",
   "metadata": {},
   "outputs": [],
   "source": [
    "# there are definitely other cleaning tasks that can be executed such as fuzzy string matching \n",
    "# if students executes something like this then good...otherwise that's fine\n",
    "\n",
    "# we list below some valid domain-knowldege and string based merging. the list is not exhaustive.\n",
    "\n",
    "air_df[\"Make\"] = air_df[\"Make\"].replace(to_replace=[\"CESSNA AIRCRAFT CO\", \"CESSNA AIRCRAFT COMPANY\", \"CESSNA AIRCRAFT\", \"CESSNA ECTOR\", \"CESSNA SKYHAWK II\", \"CESSNA AIRCRAFT CO\"], value=\"CESSNA\")\n",
    "air_df[\"Make\"] = air_df[\"Make\"].replace(to_replace=[\"PIPER AIRCRAFT INC\", \"PIPER AIRCRAFT CORPORATION\", \"PIPER AIRCRAFT\", \"NEW PIPER AIRCRAFT INC\", \"'PIPER AIRCRAFT, INC.'\", \"NEW PIPER\", \"PIPER AEROSTAR\", \"PIPER-AEROSTAR\", \"PIPER PAWNEE\", \"JETPROP DLX PIPER\"], value=\"PIPER\")\n",
    "air_df[\"Make\"] = air_df[\"Make\"].replace(to_replace=[\"BEECHCRAFT\", \"HAWKER BEECHCRAFT\", \"HAWKER BEECHCRAFT CORP\", \"HAWKER BEECHCRAFT CORPORATION\", \"HAWKER BEECHCRAFT CORP.\", \"BEECH AIRCRAFT CORPORATION\", \"BEECH AIRCRAFT\", \"HAWKER BEECH\", \"HAWKER-BEECHCRAFT\", \"BEECH AIRCRAFT CO.\", \"BEECH AIRCRAFT CORP\", \"BEECHCRAFT CORPORATION\", \"HAWKER-BEECHCRAFT CORPORATION\", \"HAWKER\", \"HAWKER SIDDELEY\", \"HAWKER AIRCRAFT LTD\"], value=\"BEECH\")\n",
    "air_df[\"Make\"] = air_df[\"Make\"].replace(to_replace=[\"THE BOEING COMPANY\", \"BOEING COMPANY\", \"BOEING STEARMAN\", \"'BOEING COMPANY, LONG BEACH DIV'\", \"BOEING-STEARMAN\", \"BOEING 777-306ER\", \"BOEING (STEARMAN)\", \"BOEING COMMERCIAL AIRPLANE GRO\", \"BOEING OF CANADA/DEHAV DIV\", \"STEARMAN\", \"STEARMAN AIRCRAFT\"], value=\"BOEING\")\n",
    "air_df[\"Make\"] = air_df[\"Make\"].replace(to_replace=[\"MOONEY AIRCRAFT CORP.\", \"MOONEY AIRPLANE CO INC\", \"MOONEY INTERNATIONAL CORP\", \"MOONEY AIRCRAFT CORPORATION\", \"MOONEY AIRCRAFT CORP\", \"'MOONEY AIRPLANE COMPANY, INC.'\"], value=\"MOONEY\")\n",
    "air_df[\"Make\"] = air_df[\"Make\"].replace(to_replace=[\"GRUMMAN ACFT ENG COR-SCHWEIZER\", \"GRUMMAN AMERICAN AVN. CORP\", \"GRUMMAN AMERICAN\", \"GRUMMAN-SCHWEIZER\", \"GRUMMAN AIRCRAFT ENG CORP\", \"GRUMMAN ACFT ENG\", \"GRUMMAN AMERICAN AVIATION\", \"GRUMMAN SCHWEIZER\", \"GRUMMAN AIRCRAFT COR-SCHWEIZER\", \"GRUMMAN AMERICAN AVN. CORP\", \"GRUMMAN AMERICAN CORPORATION\", \"GRUMMAN AIRCRAFT\", \"GRUMMAN ACFT ENG COR\", \"GRUMMAN AMERICAN AVIATION CORP\", \"NORTHROP\", \"GRUMMAN AMERICAN AVN. CORP.\"], value=\"GRUMMAN\")\n",
    "air_df[\"Make\"] = air_df[\"Make\"].replace(to_replace=[\"AIRBUS INDUSTRIE\"], value=\"AIRBUS\")\n",
    "air_df[\"Make\"] = air_df[\"Make\"].replace(to_replace=[\"MAULE AIRCRAFT CORP\"], value=\"MAULE\")\n",
    "air_df[\"Make\"] = air_df[\"Make\"].replace(to_replace=[\"AERONCA AIRCRAFT CORPORATION\", \"AERONCA CHAMPION\", \"AERONCA CHAMP\"], value=\"AERONCA\")\n",
    "\n",
    "air_df[\"Make\"] = air_df[\"Make\"].replace(to_replace=[\"AIR TRACTOR\", \"AIR TRACTOR INC\"], value=\"AIR TRACTOR\")\n",
    "air_df[\"Make\"] = air_df[\"Make\"].replace(to_replace=[\"CIRRUS\", \"CIRRUS DESIGN CORP\", \"CIRRUS DESIGN CORP.\"], value=\"CIRRUS\")\n",
    "air_df[\"Make\"] = air_df[\"Make\"].replace(to_replace=[\"ERCOUPE\", \"ERCOUPE (ENG & RESEARCH CORP.)\"], value=\"ERCOUPE\")\n",
    "air_df[\"Make\"] = air_df[\"Make\"].replace(to_replace=[\"AVIAT AIRCRAFT INC\", \"AVIAT\"], value=\"AVIAT\")\n",
    "air_df[\"Make\"] = air_df[\"Make\"].replace(to_replace=[\"ROCKWELL\", \"ROCKWELL INTERNATIONAL\"], value=\"ROCKWELL\")\n",
    "\n"
   ]
  },
  {
   "cell_type": "code",
   "execution_count": 170,
   "id": "1906f4b1",
   "metadata": {},
   "outputs": [
    {
     "data": {
      "text/plain": [
       "Make\n",
       "CESSNA                            22073\n",
       "PIPER                             12156\n",
       "BEECH                              4537\n",
       "BELL                               1348\n",
       "GRUMMAN                            1306\n",
       "                                  ...  \n",
       "PIAGGIO AERO INDUSTRIES S.P.A.        1\n",
       "EVEKTOR AEROTECHNIC                   1\n",
       "EDRA AERONAUTICA                      1\n",
       "EVEKTOR-AEROTECHNIK A.S.              1\n",
       "SCOTT TERRY G                         1\n",
       "Name: count, Length: 1364, dtype: int64"
      ]
     },
     "execution_count": 170,
     "metadata": {},
     "output_type": "execute_result"
    }
   ],
   "source": [
    "air_df['Make'].value_counts()"
   ]
  },
  {
   "cell_type": "code",
   "execution_count": 171,
   "id": "d7f5c4ff",
   "metadata": {},
   "outputs": [
    {
     "data": {
      "text/plain": [
       "Make\n",
       "CESSNA               22073\n",
       "PIPER                12156\n",
       "BEECH                 4537\n",
       "BELL                  1348\n",
       "GRUMMAN               1306\n",
       "BOEING                1240\n",
       "MOONEY                1139\n",
       "AIR TRACTOR            851\n",
       "BELLANCA               820\n",
       "ROBINSON               602\n",
       "AERONCA                540\n",
       "HUGHES                 524\n",
       "MAULE                  502\n",
       "CHAMPION               435\n",
       "SCHWEIZER              431\n",
       "CIRRUS                 419\n",
       "STINSON                369\n",
       "MCDONNELL DOUGLAS      350\n",
       "LUSCOMBE               349\n",
       "ROCKWELL               341\n",
       "AERO COMMANDER         340\n",
       "NORTH AMERICAN         330\n",
       "DE HAVILLAND           323\n",
       "TAYLORCRAFT            316\n",
       "AVIAT                  214\n",
       "Name: count, dtype: int64"
      ]
     },
     "execution_count": 171,
     "metadata": {},
     "output_type": "execute_result"
    }
   ],
   "source": [
    "# filtering\n",
    "filtered_makes = air_df['Make'].value_counts()[air_df['Make'].value_counts() > 50]\n",
    "filtered_makes[0:25]"
   ]
  },
  {
   "cell_type": "code",
   "execution_count": 172,
   "id": "4221c25c",
   "metadata": {},
   "outputs": [],
   "source": [
    "# filtering makes \n",
    "air_df = air_df[air_df['Make'].isin(filtered_makes.index)]"
   ]
  },
  {
   "cell_type": "code",
   "execution_count": 173,
   "id": "9b990b38",
   "metadata": {
    "scrolled": false
   },
   "outputs": [
    {
     "name": "stdout",
     "output_type": "stream",
     "text": [
      "<class 'pandas.core.frame.DataFrame'>\n",
      "Index: 55587 entries, 20 to 88784\n",
      "Data columns (total 35 columns):\n",
      " #   Column                  Non-Null Count  Dtype         \n",
      "---  ------                  --------------  -----         \n",
      " 0   Event.Id                55587 non-null  object        \n",
      " 1   Investigation.Type      55587 non-null  object        \n",
      " 2   Accident.Number         55587 non-null  object        \n",
      " 3   Event.Date              55587 non-null  object        \n",
      " 4   Location                55560 non-null  object        \n",
      " 5   Country                 55461 non-null  object        \n",
      " 6   Latitude                22308 non-null  object        \n",
      " 7   Longitude               22303 non-null  object        \n",
      " 8   Airport.Code            33126 non-null  object        \n",
      " 9   Airport.Name            34539 non-null  object        \n",
      " 10  Injury.Severity         55587 non-null  object        \n",
      " 11  Aircraft.damage         55587 non-null  object        \n",
      " 12  Aircraft.Category       55587 non-null  object        \n",
      " 13  Registration.Number     54891 non-null  object        \n",
      " 14  Make                    55587 non-null  object        \n",
      " 15  Model                   55574 non-null  object        \n",
      " 16  Amateur.Built           55587 non-null  object        \n",
      " 17  Number.of.Engines       53135 non-null  float64       \n",
      " 18  Engine.Type             52856 non-null  object        \n",
      " 19  FAR.Description         19420 non-null  object        \n",
      " 20  Schedule                7019 non-null   object        \n",
      " 21  Purpose.of.flight       52995 non-null  object        \n",
      " 22  Air.carrier             9681 non-null   object        \n",
      " 23  Total.Fatal.Injuries    55587 non-null  float64       \n",
      " 24  Total.Serious.Injuries  55587 non-null  float64       \n",
      " 25  Total.Minor.Injuries    55587 non-null  float64       \n",
      " 26  Total.Uninjured         55587 non-null  float64       \n",
      " 27  Weather.Condition       54053 non-null  object        \n",
      " 28  Broad.phase.of.flight   40023 non-null  object        \n",
      " 29  Report.Status           52899 non-null  object        \n",
      " 30  Publication.Date        55587 non-null  object        \n",
      " 31  Report_Date             55587 non-null  datetime64[ns]\n",
      " 32  N_passenger             55587 non-null  float64       \n",
      " 33  ser_inj_frac            55587 non-null  float64       \n",
      " 34  is_destroyed            55587 non-null  int32         \n",
      "dtypes: datetime64[ns](1), float64(7), int32(1), object(26)\n",
      "memory usage: 15.1+ MB\n"
     ]
    }
   ],
   "source": [
    "air_df.info()"
   ]
  },
  {
   "cell_type": "markdown",
   "id": "6ed9f3c2",
   "metadata": {},
   "source": [
    "### Inspect Model column\n",
    "- Get rid of any NaNs.\n",
    "- Inspect the column and counts for each model/make. Are model labels unique to each make?\n",
    "- If not, create a derived column that is a unique identifier for a given plane type."
   ]
  },
  {
   "cell_type": "code",
   "execution_count": 174,
   "id": "5216cc82",
   "metadata": {},
   "outputs": [],
   "source": [
    "air_df.dropna(subset = ['Model'], inplace = True)"
   ]
  },
  {
   "cell_type": "code",
   "execution_count": 175,
   "id": "e262d1a5",
   "metadata": {},
   "outputs": [
    {
     "data": {
      "text/html": [
       "<div>\n",
       "<style scoped>\n",
       "    .dataframe tbody tr th:only-of-type {\n",
       "        vertical-align: middle;\n",
       "    }\n",
       "\n",
       "    .dataframe tbody tr th {\n",
       "        vertical-align: top;\n",
       "    }\n",
       "\n",
       "    .dataframe thead th {\n",
       "        text-align: right;\n",
       "    }\n",
       "</style>\n",
       "<table border=\"1\" class=\"dataframe\">\n",
       "  <thead>\n",
       "    <tr style=\"text-align: right;\">\n",
       "      <th></th>\n",
       "      <th>Event.Id</th>\n",
       "      <th>Investigation.Type</th>\n",
       "      <th>Accident.Number</th>\n",
       "      <th>Event.Date</th>\n",
       "      <th>Location</th>\n",
       "      <th>Country</th>\n",
       "      <th>Latitude</th>\n",
       "      <th>Longitude</th>\n",
       "      <th>Airport.Code</th>\n",
       "      <th>Airport.Name</th>\n",
       "      <th>...</th>\n",
       "      <th>Total.Minor.Injuries</th>\n",
       "      <th>Total.Uninjured</th>\n",
       "      <th>Weather.Condition</th>\n",
       "      <th>Broad.phase.of.flight</th>\n",
       "      <th>Report.Status</th>\n",
       "      <th>Publication.Date</th>\n",
       "      <th>Report_Date</th>\n",
       "      <th>N_passenger</th>\n",
       "      <th>ser_inj_frac</th>\n",
       "      <th>is_destroyed</th>\n",
       "    </tr>\n",
       "    <tr>\n",
       "      <th>Make</th>\n",
       "      <th></th>\n",
       "      <th></th>\n",
       "      <th></th>\n",
       "      <th></th>\n",
       "      <th></th>\n",
       "      <th></th>\n",
       "      <th></th>\n",
       "      <th></th>\n",
       "      <th></th>\n",
       "      <th></th>\n",
       "      <th></th>\n",
       "      <th></th>\n",
       "      <th></th>\n",
       "      <th></th>\n",
       "      <th></th>\n",
       "      <th></th>\n",
       "      <th></th>\n",
       "      <th></th>\n",
       "      <th></th>\n",
       "      <th></th>\n",
       "      <th></th>\n",
       "    </tr>\n",
       "  </thead>\n",
       "  <tbody>\n",
       "    <tr>\n",
       "      <th>AERO COMMANDER</th>\n",
       "      <td>33</td>\n",
       "      <td>33</td>\n",
       "      <td>33</td>\n",
       "      <td>33</td>\n",
       "      <td>33</td>\n",
       "      <td>33</td>\n",
       "      <td>16</td>\n",
       "      <td>16</td>\n",
       "      <td>16</td>\n",
       "      <td>22</td>\n",
       "      <td>...</td>\n",
       "      <td>33</td>\n",
       "      <td>33</td>\n",
       "      <td>33</td>\n",
       "      <td>25</td>\n",
       "      <td>31</td>\n",
       "      <td>33</td>\n",
       "      <td>33</td>\n",
       "      <td>33</td>\n",
       "      <td>33</td>\n",
       "      <td>33</td>\n",
       "    </tr>\n",
       "    <tr>\n",
       "      <th>BEECH</th>\n",
       "      <td>11</td>\n",
       "      <td>11</td>\n",
       "      <td>11</td>\n",
       "      <td>11</td>\n",
       "      <td>11</td>\n",
       "      <td>11</td>\n",
       "      <td>4</td>\n",
       "      <td>4</td>\n",
       "      <td>7</td>\n",
       "      <td>7</td>\n",
       "      <td>...</td>\n",
       "      <td>11</td>\n",
       "      <td>11</td>\n",
       "      <td>11</td>\n",
       "      <td>7</td>\n",
       "      <td>10</td>\n",
       "      <td>11</td>\n",
       "      <td>11</td>\n",
       "      <td>11</td>\n",
       "      <td>11</td>\n",
       "      <td>11</td>\n",
       "    </tr>\n",
       "    <tr>\n",
       "      <th>ROCKWELL</th>\n",
       "      <td>1</td>\n",
       "      <td>1</td>\n",
       "      <td>1</td>\n",
       "      <td>1</td>\n",
       "      <td>1</td>\n",
       "      <td>1</td>\n",
       "      <td>0</td>\n",
       "      <td>0</td>\n",
       "      <td>0</td>\n",
       "      <td>0</td>\n",
       "      <td>...</td>\n",
       "      <td>1</td>\n",
       "      <td>1</td>\n",
       "      <td>1</td>\n",
       "      <td>1</td>\n",
       "      <td>1</td>\n",
       "      <td>1</td>\n",
       "      <td>1</td>\n",
       "      <td>1</td>\n",
       "      <td>1</td>\n",
       "      <td>1</td>\n",
       "    </tr>\n",
       "  </tbody>\n",
       "</table>\n",
       "<p>3 rows × 33 columns</p>\n",
       "</div>"
      ],
      "text/plain": [
       "                Event.Id  Investigation.Type  Accident.Number  Event.Date  \\\n",
       "Make                                                                        \n",
       "AERO COMMANDER        33                  33               33          33   \n",
       "BEECH                 11                  11               11          11   \n",
       "ROCKWELL               1                   1                1           1   \n",
       "\n",
       "                Location  Country  Latitude  Longitude  Airport.Code  \\\n",
       "Make                                                                   \n",
       "AERO COMMANDER        33       33        16         16            16   \n",
       "BEECH                 11       11         4          4             7   \n",
       "ROCKWELL               1        1         0          0             0   \n",
       "\n",
       "                Airport.Name  ...  Total.Minor.Injuries  Total.Uninjured  \\\n",
       "Make                          ...                                          \n",
       "AERO COMMANDER            22  ...                    33               33   \n",
       "BEECH                      7  ...                    11               11   \n",
       "ROCKWELL                   0  ...                     1                1   \n",
       "\n",
       "                Weather.Condition  Broad.phase.of.flight  Report.Status  \\\n",
       "Make                                                                      \n",
       "AERO COMMANDER                 33                     25             31   \n",
       "BEECH                          11                      7             10   \n",
       "ROCKWELL                        1                      1              1   \n",
       "\n",
       "                Publication.Date  Report_Date  N_passenger  ser_inj_frac  \\\n",
       "Make                                                                       \n",
       "AERO COMMANDER                33           33           33            33   \n",
       "BEECH                         11           11           11            11   \n",
       "ROCKWELL                       1            1            1             1   \n",
       "\n",
       "                is_destroyed  \n",
       "Make                          \n",
       "AERO COMMANDER            33  \n",
       "BEECH                     11  \n",
       "ROCKWELL                   1  \n",
       "\n",
       "[3 rows x 33 columns]"
      ]
     },
     "execution_count": 175,
     "metadata": {},
     "output_type": "execute_result"
    }
   ],
   "source": [
    "# as an example both Beech and Aero_commander have a model 100\n",
    "air_df.groupby(['Model', 'Make']).count().loc['100']"
   ]
  },
  {
   "cell_type": "code",
   "execution_count": 176,
   "id": "a4837c22",
   "metadata": {},
   "outputs": [],
   "source": [
    "# one possibility is to use multi-indexing. another possibility is to merge make_model into a single column"
   ]
  },
  {
   "cell_type": "code",
   "execution_count": 177,
   "id": "d46d4b6e",
   "metadata": {},
   "outputs": [
    {
     "data": {
      "text/plain": [
       "20      CESSNA_152\n",
       "17      CESSNA_180\n",
       "15        BEECH_19\n",
       "14        NAVION_A\n",
       "13    CESSNA_R172K\n",
       "Name: make_model, dtype: object"
      ]
     },
     "execution_count": 177,
     "metadata": {},
     "output_type": "execute_result"
    }
   ],
   "source": [
    "air_df['make_model'] = air_df['Make'] + '_' + air_df['Model'].str.upper()\n",
    "air_df['make_model'].head()"
   ]
  },
  {
   "cell_type": "markdown",
   "id": "9a173ebd",
   "metadata": {},
   "source": [
    "### Cleaning other columns\n",
    "- there are other columns containing data that might be related to the outcome of an accident. We list a few here:\n",
    "- Engine.Type\n",
    "- Weather.Condition\n",
    "- Number.of.Engines\n",
    "- Purpose.of.flight\n",
    "- Broad.phase.of.flight\n",
    "\n",
    "Inspect and identify potential cleaning tasks in each of the above columns. Execute those cleaning tasks. \n",
    "\n",
    "**Note**: You do not necessarily need to impute or drop NaNs here."
   ]
  },
  {
   "cell_type": "code",
   "execution_count": 178,
   "id": "1b7a58dc",
   "metadata": {},
   "outputs": [
    {
     "name": "stdout",
     "output_type": "stream",
     "text": [
      "Engine.Type\n",
      "Reciprocating      46597\n",
      "Turbo Prop          2434\n",
      "Turbo Shaft         1553\n",
      "Turbo Fan           1091\n",
      "Unknown              875\n",
      "Turbo Jet            301\n",
      "Geared Turbofan        1\n",
      "UNK                    1\n",
      "Name: count, dtype: int64\n"
     ]
    },
    {
     "data": {
      "text/plain": [
       "Engine.Type\n",
       "Reciprocating    46597\n",
       "Turbo Prop        2434\n",
       "Turbo Shaft       1553\n",
       "Turbo Fan         1091\n",
       "Turbo Jet          301\n",
       "Name: count, dtype: int64"
      ]
     },
     "execution_count": 178,
     "metadata": {},
     "output_type": "execute_result"
    }
   ],
   "source": [
    "print(air_df['Engine.Type'].value_counts())\n",
    "air_df['Engine.Type'] = air_df['Engine.Type'].replace({'Unknown': np.nan, 'UNK': np.nan}) \n",
    "# dont want any 'Unknown' categories computed in our statistics\n",
    "# replacing them with NaNs is appropriate and ensures statistics calculated over what we care about\n",
    "# you dont need to impute these NaNs to compute relevant statistics.\n",
    "\n",
    "# clean out single value as one can't use this to make statistical claims\n",
    "filtered_enginetype = air_df['Engine.Type'].value_counts()[air_df['Engine.Type'].value_counts() > 1]\n",
    "air_df = air_df[air_df['Engine.Type'].isin(filtered_enginetype.index)]\n",
    "air_df['Engine.Type'].value_counts()"
   ]
  },
  {
   "cell_type": "code",
   "execution_count": 179,
   "id": "14442022",
   "metadata": {},
   "outputs": [
    {
     "name": "stdout",
     "output_type": "stream",
     "text": [
      "['VMC' 'IMC' 'UNK' nan 'Unk']\n",
      "Weather.Condition\n",
      "VMC    47094\n",
      "IMC     4006\n",
      "Name: count, dtype: int64\n"
     ]
    }
   ],
   "source": [
    "# converting unknowns to NaNs\n",
    "print(air_df['Weather.Condition'].unique())\n",
    "air_df['Weather.Condition'] = air_df['Weather.Condition'].replace({'UNK': np.nan, 'Unk': np.nan})\n",
    "print(air_df['Weather.Condition'].value_counts())"
   ]
  },
  {
   "cell_type": "code",
   "execution_count": 180,
   "id": "ef75edbf",
   "metadata": {},
   "outputs": [
    {
     "name": "stdout",
     "output_type": "stream",
     "text": [
      "Number.of.Engines\n",
      "1.0    44405\n",
      "2.0     6751\n",
      "4.0      221\n",
      "3.0      219\n",
      "0.0        2\n",
      "Name: count, dtype: int64\n",
      "[1. 2. 3. 4.]\n"
     ]
    }
   ],
   "source": [
    "# having zero engines for an airplane doesnt make sense. Since its only two examples, remove corresponding entries.\n",
    "print(air_df['Number.of.Engines'].value_counts())\n",
    "air_df = air_df[air_df['Number.of.Engines'] > 0.0]\n",
    "print(air_df['Number.of.Engines'].unique())"
   ]
  },
  {
   "cell_type": "code",
   "execution_count": 181,
   "id": "a2103c79",
   "metadata": {},
   "outputs": [
    {
     "name": "stdout",
     "output_type": "stream",
     "text": [
      "['Instructional' 'Personal' 'Ferry' 'Business' 'Unknown'\n",
      " 'Aerial Observation' 'Executive/corporate' 'Aerial Application'\n",
      " 'Public Aircraft' 'Other Work Use' 'Positioning' nan 'Flight Test'\n",
      " 'Air Drop' 'Air Race/show' 'Skydiving' 'Public Aircraft - State'\n",
      " 'Glider Tow' 'External Load' 'Firefighting' 'Banner Tow'\n",
      " 'Public Aircraft - Local' 'Public Aircraft - Federal' 'Air Race show'\n",
      " 'PUBS']\n"
     ]
    },
    {
     "name": "stderr",
     "output_type": "stream",
     "text": [
      "C:\\Users\\Praveen\\AppData\\Local\\Temp\\ipykernel_8324\\2983482517.py:4: FutureWarning: A value is trying to be set on a copy of a DataFrame or Series through chained assignment using an inplace method.\n",
      "The behavior will change in pandas 3.0. This inplace method will never work because the intermediate object on which we are setting values always behaves as a copy.\n",
      "\n",
      "For example, when doing 'df[col].method(value, inplace=True)', try using 'df.method({col: value}, inplace=True)' or df[col] = df[col].method(value) instead, to perform the operation inplace on the original object.\n",
      "\n",
      "\n",
      "  air_df['Purpose.of.flight'].replace({'Unknown': np.nan}, inplace = True)\n"
     ]
    }
   ],
   "source": [
    "# converting unknowns to NaNs\n",
    "\n",
    "print(air_df['Purpose.of.flight'].unique())\n",
    "air_df['Purpose.of.flight'].replace({'Unknown': np.nan}, inplace = True)"
   ]
  },
  {
   "cell_type": "code",
   "execution_count": 182,
   "id": "ea25cee4",
   "metadata": {
    "scrolled": true
   },
   "outputs": [
    {
     "name": "stdout",
     "output_type": "stream",
     "text": [
      "['Takeoff' 'Unknown' 'Cruise' 'Taxi' 'Approach' 'Landing' 'Maneuvering'\n",
      " 'Descent' 'Climb' 'Go-around' 'Other' 'Standing' nan]\n",
      "Broad.phase.of.flight\n",
      "Landing        10462\n",
      "Takeoff         7870\n",
      "Cruise          6592\n",
      "Maneuvering     4890\n",
      "Approach        4075\n",
      "Taxi            1343\n",
      "Climb           1280\n",
      "Descent         1132\n",
      "Go-around        966\n",
      "Standing         520\n",
      "Name: count, dtype: int64\n"
     ]
    }
   ],
   "source": [
    "# converting unknowns and Other to NaNs\n",
    "\n",
    "print(air_df['Broad.phase.of.flight'].unique())\n",
    "air_df['Broad.phase.of.flight'] = air_df['Broad.phase.of.flight'].replace({'Unknown': np.nan, 'Other': np.nan})\n",
    "print(air_df['Broad.phase.of.flight'].value_counts())"
   ]
  },
  {
   "cell_type": "markdown",
   "id": "12ad63d9",
   "metadata": {},
   "source": [
    "### Column Removal\n",
    "- inspect the dataframe and drop any columns that have too many NaNs"
   ]
  },
  {
   "cell_type": "code",
   "execution_count": 183,
   "id": "6dee20c7",
   "metadata": {
    "scrolled": false
   },
   "outputs": [
    {
     "name": "stdout",
     "output_type": "stream",
     "text": [
      "<class 'pandas.core.frame.DataFrame'>\n",
      "Index: 51596 entries, 20 to 88632\n",
      "Data columns (total 36 columns):\n",
      " #   Column                  Non-Null Count  Dtype         \n",
      "---  ------                  --------------  -----         \n",
      " 0   Event.Id                51596 non-null  object        \n",
      " 1   Investigation.Type      51596 non-null  object        \n",
      " 2   Accident.Number         51596 non-null  object        \n",
      " 3   Event.Date              51596 non-null  object        \n",
      " 4   Location                51585 non-null  object        \n",
      " 5   Country                 51474 non-null  object        \n",
      " 6   Latitude                20137 non-null  object        \n",
      " 7   Longitude               20132 non-null  object        \n",
      " 8   Airport.Code            31674 non-null  object        \n",
      " 9   Airport.Name            33106 non-null  object        \n",
      " 10  Injury.Severity         51596 non-null  object        \n",
      " 11  Aircraft.damage         51596 non-null  object        \n",
      " 12  Aircraft.Category       51596 non-null  object        \n",
      " 13  Registration.Number     51566 non-null  object        \n",
      " 14  Make                    51596 non-null  object        \n",
      " 15  Model                   51596 non-null  object        \n",
      " 16  Amateur.Built           51596 non-null  object        \n",
      " 17  Number.of.Engines       51596 non-null  float64       \n",
      " 18  Engine.Type             51596 non-null  object        \n",
      " 19  FAR.Description         17175 non-null  object        \n",
      " 20  Schedule                6044 non-null   object        \n",
      " 21  Purpose.of.flight       46701 non-null  object        \n",
      " 22  Air.carrier             8482 non-null   object        \n",
      " 23  Total.Fatal.Injuries    51596 non-null  float64       \n",
      " 24  Total.Serious.Injuries  51596 non-null  float64       \n",
      " 25  Total.Minor.Injuries    51596 non-null  float64       \n",
      " 26  Total.Uninjured         51596 non-null  float64       \n",
      " 27  Weather.Condition       50787 non-null  object        \n",
      " 28  Broad.phase.of.flight   39130 non-null  object        \n",
      " 29  Report.Status           50882 non-null  object        \n",
      " 30  Publication.Date        51596 non-null  object        \n",
      " 31  Report_Date             51596 non-null  datetime64[ns]\n",
      " 32  N_passenger             51596 non-null  float64       \n",
      " 33  ser_inj_frac            51596 non-null  float64       \n",
      " 34  is_destroyed            51596 non-null  int32         \n",
      " 35  make_model              51596 non-null  object        \n",
      "dtypes: datetime64[ns](1), float64(7), int32(1), object(27)\n",
      "memory usage: 14.4+ MB\n"
     ]
    }
   ],
   "source": [
    "# inspect data\n",
    "air_df.info()"
   ]
  },
  {
   "cell_type": "code",
   "execution_count": 184,
   "id": "1df3aad2",
   "metadata": {},
   "outputs": [
    {
     "data": {
      "text/plain": [
       "Index(['Event.Id', 'Investigation.Type', 'Accident.Number', 'Event.Date',\n",
       "       'Location', 'Country', 'Latitude', 'Longitude', 'Airport.Code',\n",
       "       'Airport.Name', 'Injury.Severity', 'Aircraft.damage',\n",
       "       'Aircraft.Category', 'Registration.Number', 'Make', 'Model',\n",
       "       'Amateur.Built', 'Number.of.Engines', 'Engine.Type',\n",
       "       'Purpose.of.flight', 'Total.Fatal.Injuries', 'Total.Serious.Injuries',\n",
       "       'Total.Minor.Injuries', 'Total.Uninjured', 'Weather.Condition',\n",
       "       'Broad.phase.of.flight', 'Report.Status', 'Publication.Date',\n",
       "       'Report_Date', 'N_passenger', 'ser_inj_frac', 'is_destroyed',\n",
       "       'make_model'],\n",
       "      dtype='object')"
      ]
     },
     "execution_count": 184,
     "metadata": {},
     "output_type": "execute_result"
    }
   ],
   "source": [
    "# some valid column removals are FAR.Description, Air.carrier, Schedule\n",
    "\n",
    "air_df = air_df.drop(columns = ['FAR.Description', 'Air.carrier', 'Schedule'])\n",
    "\n",
    "# column list should no longer retain above columns\n",
    "air_df.columns"
   ]
  },
  {
   "cell_type": "markdown",
   "id": "750d48f1",
   "metadata": {},
   "source": [
    "### Save DataFrame to csv\n",
    "- its generally useful to save data to file/server after its in a sufficiently cleaned or intermediate state\n",
    "- the data can then be loaded directly in another notebook for further analysis\n",
    "- this helps keep your notebooks and workflow readable, clean and modularized"
   ]
  },
  {
   "cell_type": "code",
   "execution_count": 185,
   "id": "b425a512",
   "metadata": {},
   "outputs": [],
   "source": [
    "# student should save data as csv to appropriate folder\n",
    "air_df.to_csv('data/air_cleaned.csv', index = False)"
   ]
  }
 ],
 "metadata": {
  "kernelspec": {
   "display_name": "Python 3 (ipykernel)",
   "language": "python",
   "name": "python3"
  },
  "language_info": {
   "codemirror_mode": {
    "name": "ipython",
    "version": 3
   },
   "file_extension": ".py",
   "mimetype": "text/x-python",
   "name": "python",
   "nbconvert_exporter": "python",
   "pygments_lexer": "ipython3",
   "version": "3.12.3"
  }
 },
 "nbformat": 4,
 "nbformat_minor": 5
}
